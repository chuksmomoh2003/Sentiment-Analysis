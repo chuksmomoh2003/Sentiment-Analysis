{
 "cells": [
  {
   "cell_type": "code",
   "execution_count": 1,
   "id": "14f8f2bc-ed0f-46a6-bff9-cabbed159e51",
   "metadata": {},
   "outputs": [
    {
     "name": "stderr",
     "output_type": "stream",
     "text": [
      "2024-12-23 00:55:55.817713: I tensorflow/core/platform/cpu_feature_guard.cc:182] This TensorFlow binary is optimized to use available CPU instructions in performance-critical operations.\n",
      "To enable the following instructions: SSE4.1 SSE4.2 AVX AVX2 AVX512F FMA, in other operations, rebuild TensorFlow with the appropriate compiler flags.\n"
     ]
    }
   ],
   "source": [
    "from autogluon.multimodal import MultiModalPredictor\n",
    "import pandas as pd\n",
    "import uuid"
   ]
  },
  {
   "cell_type": "code",
   "execution_count": 2,
   "id": "7ddca4d3-3f5c-4572-b521-45aafe007c75",
   "metadata": {},
   "outputs": [
    {
     "name": "stdout",
     "output_type": "stream",
     "text": [
      "1.2\n"
     ]
    }
   ],
   "source": [
    "import autogluon.multimodal\n",
    "print(autogluon.multimodal.__version__)\n",
    "\n"
   ]
  },
  {
   "cell_type": "code",
   "execution_count": 3,
   "id": "0b00af83-84bc-4cc1-ae95-dd1e9b54588f",
   "metadata": {},
   "outputs": [
    {
     "name": "stdout",
     "output_type": "stream",
     "text": [
      "1.2\n"
     ]
    }
   ],
   "source": [
    "import autogluon.core\n",
    "print(autogluon.core.__version__)\n"
   ]
  },
  {
   "cell_type": "code",
   "execution_count": 4,
   "id": "7a637c9f-b5ff-41d2-8991-2bdce5d2b922",
   "metadata": {},
   "outputs": [
    {
     "data": {
      "text/html": [
       "<div>\n",
       "<style scoped>\n",
       "    .dataframe tbody tr th:only-of-type {\n",
       "        vertical-align: middle;\n",
       "    }\n",
       "\n",
       "    .dataframe tbody tr th {\n",
       "        vertical-align: top;\n",
       "    }\n",
       "\n",
       "    .dataframe thead th {\n",
       "        text-align: right;\n",
       "    }\n",
       "</style>\n",
       "<table border=\"1\" class=\"dataframe\">\n",
       "  <thead>\n",
       "    <tr style=\"text-align: right;\">\n",
       "      <th></th>\n",
       "      <th>reviewText</th>\n",
       "      <th>summary</th>\n",
       "      <th>verified</th>\n",
       "      <th>time</th>\n",
       "      <th>log_votes</th>\n",
       "      <th>isPositive</th>\n",
       "    </tr>\n",
       "  </thead>\n",
       "  <tbody>\n",
       "    <tr>\n",
       "      <th>46730</th>\n",
       "      <td>Well I mean, you have to purchase some copy of...</td>\n",
       "      <td>Three Stars</td>\n",
       "      <td>True</td>\n",
       "      <td>1445472000</td>\n",
       "      <td>0.000000</td>\n",
       "      <td>0.0</td>\n",
       "    </tr>\n",
       "    <tr>\n",
       "      <th>48393</th>\n",
       "      <td>I am still getting to know this software, had ...</td>\n",
       "      <td>Quicken 2015 Mac Much Improved over Quicken 20...</td>\n",
       "      <td>False</td>\n",
       "      <td>1424995200</td>\n",
       "      <td>0.000000</td>\n",
       "      <td>1.0</td>\n",
       "    </tr>\n",
       "    <tr>\n",
       "      <th>41416</th>\n",
       "      <td>Has good features not available in other versi...</td>\n",
       "      <td>Good package, but I personally could have done...</td>\n",
       "      <td>True</td>\n",
       "      <td>1385337600</td>\n",
       "      <td>0.000000</td>\n",
       "      <td>0.0</td>\n",
       "    </tr>\n",
       "    <tr>\n",
       "      <th>34506</th>\n",
       "      <td>Do not download if you are purchasing for an i...</td>\n",
       "      <td>I just wasted my money</td>\n",
       "      <td>True</td>\n",
       "      <td>1522540800</td>\n",
       "      <td>0.000000</td>\n",
       "      <td>0.0</td>\n",
       "    </tr>\n",
       "    <tr>\n",
       "      <th>43725</th>\n",
       "      <td>I have tried similar products, but this one ca...</td>\n",
       "      <td>This is great!</td>\n",
       "      <td>False</td>\n",
       "      <td>1057708800</td>\n",
       "      <td>1.098612</td>\n",
       "      <td>1.0</td>\n",
       "    </tr>\n",
       "  </tbody>\n",
       "</table>\n",
       "</div>"
      ],
      "text/plain": [
       "                                              reviewText  \\\n",
       "46730  Well I mean, you have to purchase some copy of...   \n",
       "48393  I am still getting to know this software, had ...   \n",
       "41416  Has good features not available in other versi...   \n",
       "34506  Do not download if you are purchasing for an i...   \n",
       "43725  I have tried similar products, but this one ca...   \n",
       "\n",
       "                                                 summary  verified  \\\n",
       "46730                                        Three Stars      True   \n",
       "48393  Quicken 2015 Mac Much Improved over Quicken 20...     False   \n",
       "41416  Good package, but I personally could have done...      True   \n",
       "34506                             I just wasted my money      True   \n",
       "43725                                     This is great!     False   \n",
       "\n",
       "             time  log_votes  isPositive  \n",
       "46730  1445472000   0.000000         0.0  \n",
       "48393  1424995200   0.000000         1.0  \n",
       "41416  1385337600   0.000000         0.0  \n",
       "34506  1522540800   0.000000         0.0  \n",
       "43725  1057708800   1.098612         1.0  "
      ]
     },
     "execution_count": 4,
     "metadata": {},
     "output_type": "execute_result"
    }
   ],
   "source": [
    "# Load the dataset\n",
    "data = pd.read_csv('AMAZON-REVIEW-DATA-CLASSIFICATION.csv').sample(n=5000, random_state=42)\n",
    "data.head()"
   ]
  },
  {
   "cell_type": "code",
   "execution_count": 5,
   "id": "1a44a779-aae5-4a54-8eab-7ddd5c872381",
   "metadata": {},
   "outputs": [
    {
     "data": {
      "text/plain": [
       "(5000, 6)"
      ]
     },
     "execution_count": 5,
     "metadata": {},
     "output_type": "execute_result"
    }
   ],
   "source": [
    "data.shape"
   ]
  },
  {
   "cell_type": "code",
   "execution_count": 6,
   "id": "4bb9cf60-6014-457b-9317-cecaa2890d3c",
   "metadata": {},
   "outputs": [],
   "source": [
    "# Ensure no missing values in the target column\n",
    "data['isPositive'] = data['isPositive'].fillna(0).astype(int)\n",
    "data['reviewText'] = data['reviewText'].fillna(\"\")  # Ensure no missing values in the text column"
   ]
  },
  {
   "cell_type": "code",
   "execution_count": 7,
   "id": "158b336b-3899-4969-88fe-e1c48d81a3a6",
   "metadata": {},
   "outputs": [],
   "source": [
    "# Split the data\n",
    "train_data = data.sample(frac=0.8, random_state=42)\n",
    "test_data = data.drop(train_data.index)"
   ]
  },
  {
   "cell_type": "code",
   "execution_count": 8,
   "id": "9693ced2-abd3-4a2e-be1a-66d6c5f66e98",
   "metadata": {},
   "outputs": [],
   "source": [
    "# Set up model path\n",
    "model_path = \"./models/automm_sentiment\""
   ]
  },
  {
   "cell_type": "code",
   "execution_count": 9,
   "id": "4a8b03ee-4d86-42d4-80b0-0e026b467dd0",
   "metadata": {},
   "outputs": [
    {
     "name": "stderr",
     "output_type": "stream",
     "text": [
      "=================== System Info ===================\n",
      "AutoGluon Version:  1.2\n",
      "Python Version:     3.10.14\n",
      "Operating System:   Linux\n",
      "Platform Machine:   x86_64\n",
      "Platform Version:   #1 SMP Wed Oct 23 17:17:00 UTC 2024\n",
      "CPU Count:          8\n",
      "Pytorch Version:    2.4.1+cu121\n",
      "CUDA Version:       CUDA is not available\n",
      "Memory Avail:       27.44 GB / 30.89 GB (88.8%)\n",
      "Disk Space Avail:   31.05 GB / 49.99 GB (62.1%)\n",
      "===================================================\n",
      "AutoGluon infers your prediction problem is: 'binary' (because only two unique label-values observed).\n",
      "\t2 unique label values:  [1, 0]\n",
      "\tIf 'binary' is not the correct problem_type, please manually specify the problem_type parameter during Predictor init (You may specify problem_type as one of: ['binary', 'multiclass', 'regression', 'quantile'])\n",
      "\n",
      "AutoMM starts to create your model. ✨✨✨\n",
      "\n",
      "To track the learning progress, you can open a terminal and launch Tensorboard:\n",
      "    ```shell\n",
      "    # Assume you have installed tensorboard\n",
      "    tensorboard --logdir /home/sagemaker-user/SENTIMENT ANALYSIS/models/automm_sentiment\n",
      "    ```\n",
      "\n",
      "Seed set to 0\n",
      "/opt/conda/lib/python3.10/site-packages/huggingface_hub/file_download.py:1150: FutureWarning: `resume_download` is deprecated and will be removed in version 1.0.0. Downloads always resume when possible. If you want to force a new download, use `force_download=True`.\n",
      "  warnings.warn(\n",
      "/opt/conda/lib/python3.10/site-packages/transformers/convert_slow_tokenizer.py:560: UserWarning: The sentencepiece tokenizer that you are converting to a fast tokenizer uses the byte fallback option which is not implemented in the fast tokenizers. In practice this means that the fast version of the tokenizer can produce unknown tokens whereas the sentencepiece version would have converted these unknown tokens into a sequence of byte tokens matching the original piece of text.\n",
      "  warnings.warn(\n",
      "GPU Count: 0\n",
      "GPU Count to be Used: 0\n",
      "\n",
      "/opt/conda/lib/python3.10/site-packages/autogluon/multimodal/utils/environment.py:131: UserWarning: Only CPU is detected in the instance. This may result in slow speed for MultiModalPredictor. Consider using an instance with GPU support.\n",
      "  warnings.warn(\n",
      "GPU available: False, used: False\n",
      "TPU available: False, using: 0 TPU cores\n",
      "HPU available: False, using: 0 HPUs\n",
      "\n",
      "  | Name              | Type                | Params | Mode \n",
      "------------------------------------------------------------------\n",
      "0 | model             | MultimodalFusionMLP | 185 M  | train\n",
      "1 | validation_metric | MulticlassAccuracy  | 0      | train\n",
      "2 | loss_func         | CrossEntropyLoss    | 0      | train\n",
      "------------------------------------------------------------------\n",
      "185 M     Trainable params\n",
      "0         Non-trainable params\n",
      "185 M     Total params\n",
      "742.515   Total estimated model params size (MB)\n",
      "84        Modules in train mode\n",
      "237       Modules in eval mode\n"
     ]
    },
    {
     "data": {
      "application/vnd.jupyter.widget-view+json": {
       "model_id": "",
       "version_major": 2,
       "version_minor": 0
      },
      "text/plain": [
       "Sanity Checking: |          | 0/? [00:00<?, ?it/s]"
      ]
     },
     "metadata": {},
     "output_type": "display_data"
    },
    {
     "data": {
      "application/vnd.jupyter.widget-view+json": {
       "model_id": "ab594b34ccb74348ba325719ecaf262e",
       "version_major": 2,
       "version_minor": 0
      },
      "text/plain": [
       "Training: |          | 0/? [00:00<?, ?it/s]"
      ]
     },
     "metadata": {},
     "output_type": "display_data"
    },
    {
     "data": {
      "application/vnd.jupyter.widget-view+json": {
       "model_id": "",
       "version_major": 2,
       "version_minor": 0
      },
      "text/plain": [
       "Validation: |          | 0/? [00:00<?, ?it/s]"
      ]
     },
     "metadata": {},
     "output_type": "display_data"
    },
    {
     "name": "stderr",
     "output_type": "stream",
     "text": [
      "Epoch 0, global step 13: 'val_accuracy' reached 0.64000 (best 0.64000), saving model to '/home/sagemaker-user/SENTIMENT ANALYSIS/models/automm_sentiment/epoch=0-step=13.ckpt' as top 3\n"
     ]
    },
    {
     "data": {
      "application/vnd.jupyter.widget-view+json": {
       "model_id": "",
       "version_major": 2,
       "version_minor": 0
      },
      "text/plain": [
       "Validation: |          | 0/? [00:00<?, ?it/s]"
      ]
     },
     "metadata": {},
     "output_type": "display_data"
    },
    {
     "name": "stderr",
     "output_type": "stream",
     "text": [
      "Epoch 0, global step 28: 'val_accuracy' reached 0.90800 (best 0.90800), saving model to '/home/sagemaker-user/SENTIMENT ANALYSIS/models/automm_sentiment/epoch=0-step=28.ckpt' as top 3\n"
     ]
    },
    {
     "data": {
      "application/vnd.jupyter.widget-view+json": {
       "model_id": "",
       "version_major": 2,
       "version_minor": 0
      },
      "text/plain": [
       "Validation: |          | 0/? [00:00<?, ?it/s]"
      ]
     },
     "metadata": {},
     "output_type": "display_data"
    },
    {
     "name": "stderr",
     "output_type": "stream",
     "text": [
      "Epoch 1, global step 41: 'val_accuracy' reached 0.90600 (best 0.90800), saving model to '/home/sagemaker-user/SENTIMENT ANALYSIS/models/automm_sentiment/epoch=1-step=41.ckpt' as top 3\n"
     ]
    },
    {
     "data": {
      "application/vnd.jupyter.widget-view+json": {
       "model_id": "",
       "version_major": 2,
       "version_minor": 0
      },
      "text/plain": [
       "Validation: |          | 0/? [00:00<?, ?it/s]"
      ]
     },
     "metadata": {},
     "output_type": "display_data"
    },
    {
     "name": "stderr",
     "output_type": "stream",
     "text": [
      "Epoch 1, global step 56: 'val_accuracy' reached 0.91200 (best 0.91200), saving model to '/home/sagemaker-user/SENTIMENT ANALYSIS/models/automm_sentiment/epoch=1-step=56.ckpt' as top 3\n"
     ]
    },
    {
     "data": {
      "application/vnd.jupyter.widget-view+json": {
       "model_id": "",
       "version_major": 2,
       "version_minor": 0
      },
      "text/plain": [
       "Validation: |          | 0/? [00:00<?, ?it/s]"
      ]
     },
     "metadata": {},
     "output_type": "display_data"
    },
    {
     "name": "stderr",
     "output_type": "stream",
     "text": [
      "Epoch 2, global step 69: 'val_accuracy' reached 0.93400 (best 0.93400), saving model to '/home/sagemaker-user/SENTIMENT ANALYSIS/models/automm_sentiment/epoch=2-step=69.ckpt' as top 3\n"
     ]
    },
    {
     "data": {
      "application/vnd.jupyter.widget-view+json": {
       "model_id": "",
       "version_major": 2,
       "version_minor": 0
      },
      "text/plain": [
       "Validation: |          | 0/? [00:00<?, ?it/s]"
      ]
     },
     "metadata": {},
     "output_type": "display_data"
    },
    {
     "name": "stderr",
     "output_type": "stream",
     "text": [
      "Epoch 2, global step 84: 'val_accuracy' reached 0.93400 (best 0.93400), saving model to '/home/sagemaker-user/SENTIMENT ANALYSIS/models/automm_sentiment/epoch=2-step=84.ckpt' as top 3\n"
     ]
    },
    {
     "data": {
      "application/vnd.jupyter.widget-view+json": {
       "model_id": "",
       "version_major": 2,
       "version_minor": 0
      },
      "text/plain": [
       "Validation: |          | 0/? [00:00<?, ?it/s]"
      ]
     },
     "metadata": {},
     "output_type": "display_data"
    },
    {
     "name": "stderr",
     "output_type": "stream",
     "text": [
      "Epoch 3, global step 97: 'val_accuracy' reached 0.92800 (best 0.93400), saving model to '/home/sagemaker-user/SENTIMENT ANALYSIS/models/automm_sentiment/epoch=3-step=97.ckpt' as top 3\n"
     ]
    },
    {
     "data": {
      "application/vnd.jupyter.widget-view+json": {
       "model_id": "",
       "version_major": 2,
       "version_minor": 0
      },
      "text/plain": [
       "Validation: |          | 0/? [00:00<?, ?it/s]"
      ]
     },
     "metadata": {},
     "output_type": "display_data"
    },
    {
     "name": "stderr",
     "output_type": "stream",
     "text": [
      "Epoch 3, global step 112: 'val_accuracy' reached 0.94000 (best 0.94000), saving model to '/home/sagemaker-user/SENTIMENT ANALYSIS/models/automm_sentiment/epoch=3-step=112.ckpt' as top 3\n"
     ]
    },
    {
     "data": {
      "application/vnd.jupyter.widget-view+json": {
       "model_id": "",
       "version_major": 2,
       "version_minor": 0
      },
      "text/plain": [
       "Validation: |          | 0/? [00:00<?, ?it/s]"
      ]
     },
     "metadata": {},
     "output_type": "display_data"
    },
    {
     "name": "stderr",
     "output_type": "stream",
     "text": [
      "Epoch 4, global step 125: 'val_accuracy' reached 0.94200 (best 0.94200), saving model to '/home/sagemaker-user/SENTIMENT ANALYSIS/models/automm_sentiment/epoch=4-step=125.ckpt' as top 3\n"
     ]
    },
    {
     "data": {
      "application/vnd.jupyter.widget-view+json": {
       "model_id": "",
       "version_major": 2,
       "version_minor": 0
      },
      "text/plain": [
       "Validation: |          | 0/? [00:00<?, ?it/s]"
      ]
     },
     "metadata": {},
     "output_type": "display_data"
    },
    {
     "name": "stderr",
     "output_type": "stream",
     "text": [
      "Epoch 4, global step 140: 'val_accuracy' was not in top 3\n"
     ]
    },
    {
     "data": {
      "application/vnd.jupyter.widget-view+json": {
       "model_id": "",
       "version_major": 2,
       "version_minor": 0
      },
      "text/plain": [
       "Validation: |          | 0/? [00:00<?, ?it/s]"
      ]
     },
     "metadata": {},
     "output_type": "display_data"
    },
    {
     "name": "stderr",
     "output_type": "stream",
     "text": [
      "Epoch 5, global step 153: 'val_accuracy' was not in top 3\n"
     ]
    },
    {
     "data": {
      "application/vnd.jupyter.widget-view+json": {
       "model_id": "",
       "version_major": 2,
       "version_minor": 0
      },
      "text/plain": [
       "Validation: |          | 0/? [00:00<?, ?it/s]"
      ]
     },
     "metadata": {},
     "output_type": "display_data"
    },
    {
     "name": "stderr",
     "output_type": "stream",
     "text": [
      "Epoch 5, global step 168: 'val_accuracy' was not in top 3\n"
     ]
    },
    {
     "data": {
      "application/vnd.jupyter.widget-view+json": {
       "model_id": "",
       "version_major": 2,
       "version_minor": 0
      },
      "text/plain": [
       "Validation: |          | 0/? [00:00<?, ?it/s]"
      ]
     },
     "metadata": {},
     "output_type": "display_data"
    },
    {
     "name": "stderr",
     "output_type": "stream",
     "text": [
      "Epoch 6, global step 181: 'val_accuracy' was not in top 3\n"
     ]
    },
    {
     "data": {
      "application/vnd.jupyter.widget-view+json": {
       "model_id": "",
       "version_major": 2,
       "version_minor": 0
      },
      "text/plain": [
       "Validation: |          | 0/? [00:00<?, ?it/s]"
      ]
     },
     "metadata": {},
     "output_type": "display_data"
    },
    {
     "name": "stderr",
     "output_type": "stream",
     "text": [
      "Epoch 6, global step 196: 'val_accuracy' was not in top 3\n"
     ]
    },
    {
     "data": {
      "application/vnd.jupyter.widget-view+json": {
       "model_id": "",
       "version_major": 2,
       "version_minor": 0
      },
      "text/plain": [
       "Validation: |          | 0/? [00:00<?, ?it/s]"
      ]
     },
     "metadata": {},
     "output_type": "display_data"
    },
    {
     "name": "stderr",
     "output_type": "stream",
     "text": [
      "Epoch 7, global step 209: 'val_accuracy' reached 0.93600 (best 0.94200), saving model to '/home/sagemaker-user/SENTIMENT ANALYSIS/models/automm_sentiment/epoch=7-step=209.ckpt' as top 3\n"
     ]
    },
    {
     "data": {
      "application/vnd.jupyter.widget-view+json": {
       "model_id": "",
       "version_major": 2,
       "version_minor": 0
      },
      "text/plain": [
       "Validation: |          | 0/? [00:00<?, ?it/s]"
      ]
     },
     "metadata": {},
     "output_type": "display_data"
    },
    {
     "name": "stderr",
     "output_type": "stream",
     "text": [
      "Epoch 7, global step 224: 'val_accuracy' reached 0.93800 (best 0.94200), saving model to '/home/sagemaker-user/SENTIMENT ANALYSIS/models/automm_sentiment/epoch=7-step=224.ckpt' as top 3\n"
     ]
    },
    {
     "data": {
      "application/vnd.jupyter.widget-view+json": {
       "model_id": "",
       "version_major": 2,
       "version_minor": 0
      },
      "text/plain": [
       "Validation: |          | 0/? [00:00<?, ?it/s]"
      ]
     },
     "metadata": {},
     "output_type": "display_data"
    },
    {
     "name": "stderr",
     "output_type": "stream",
     "text": [
      "Epoch 8, global step 237: 'val_accuracy' was not in top 3\n"
     ]
    },
    {
     "data": {
      "application/vnd.jupyter.widget-view+json": {
       "model_id": "",
       "version_major": 2,
       "version_minor": 0
      },
      "text/plain": [
       "Validation: |          | 0/? [00:00<?, ?it/s]"
      ]
     },
     "metadata": {},
     "output_type": "display_data"
    },
    {
     "name": "stderr",
     "output_type": "stream",
     "text": [
      "Epoch 8, global step 252: 'val_accuracy' was not in top 3\n"
     ]
    },
    {
     "data": {
      "application/vnd.jupyter.widget-view+json": {
       "model_id": "",
       "version_major": 2,
       "version_minor": 0
      },
      "text/plain": [
       "Validation: |          | 0/? [00:00<?, ?it/s]"
      ]
     },
     "metadata": {},
     "output_type": "display_data"
    },
    {
     "name": "stderr",
     "output_type": "stream",
     "text": [
      "Epoch 9, global step 265: 'val_accuracy' was not in top 3\n",
      "Start to fuse 3 checkpoints via the greedy soup algorithm.\n",
      "/opt/conda/lib/python3.10/site-packages/autogluon/multimodal/learners/base.py:2117: FutureWarning: You are using `torch.load` with `weights_only=False` (the current default value), which uses the default pickle module implicitly. It is possible to construct malicious pickle data which will execute arbitrary code during unpickling (See https://github.com/pytorch/pytorch/blob/main/SECURITY.md#untrusted-models for more details). In a future release, the default value for `weights_only` will be flipped to `True`. This limits the functions that could be executed during unpickling. Arbitrary objects will no longer be allowed to be loaded via this mode unless they are explicitly allowlisted by the user via `torch.serialization.add_safe_globals`. We recommend you start setting `weights_only=True` for any use case where you don't have full control of the loaded file. Please open an issue on GitHub for any issues related to this experimental feature.\n",
      "  state_dict = torch.load(path, map_location=torch.device(\"cpu\"))[\"state_dict\"]  # nosec B614\n"
     ]
    },
    {
     "data": {
      "application/vnd.jupyter.widget-view+json": {
       "model_id": "bd0514ba7a72443b8e979b0c52f2e946",
       "version_major": 2,
       "version_minor": 0
      },
      "text/plain": [
       "Predicting: |          | 0/? [00:00<?, ?it/s]"
      ]
     },
     "metadata": {},
     "output_type": "display_data"
    },
    {
     "name": "stderr",
     "output_type": "stream",
     "text": [
      "/opt/conda/lib/python3.10/site-packages/autogluon/multimodal/utils/checkpoint.py:45: FutureWarning: You are using `torch.load` with `weights_only=False` (the current default value), which uses the default pickle module implicitly. It is possible to construct malicious pickle data which will execute arbitrary code during unpickling (See https://github.com/pytorch/pytorch/blob/main/SECURITY.md#untrusted-models for more details). In a future release, the default value for `weights_only` will be flipped to `True`. This limits the functions that could be executed during unpickling. Arbitrary objects will no longer be allowed to be loaded via this mode unless they are explicitly allowlisted by the user via `torch.serialization.add_safe_globals`. We recommend you start setting `weights_only=True` for any use case where you don't have full control of the loaded file. Please open an issue on GitHub for any issues related to this experimental feature.\n",
      "  state_dict = torch.load(per_path, map_location=torch.device(\"cpu\"))[\"state_dict\"]  # nosec B614\n"
     ]
    },
    {
     "data": {
      "application/vnd.jupyter.widget-view+json": {
       "model_id": "5b55460f4331491ba073e8ea25943965",
       "version_major": 2,
       "version_minor": 0
      },
      "text/plain": [
       "Predicting: |          | 0/? [00:00<?, ?it/s]"
      ]
     },
     "metadata": {},
     "output_type": "display_data"
    },
    {
     "name": "stderr",
     "output_type": "stream",
     "text": [
      "/opt/conda/lib/python3.10/site-packages/autogluon/multimodal/utils/checkpoint.py:45: FutureWarning: You are using `torch.load` with `weights_only=False` (the current default value), which uses the default pickle module implicitly. It is possible to construct malicious pickle data which will execute arbitrary code during unpickling (See https://github.com/pytorch/pytorch/blob/main/SECURITY.md#untrusted-models for more details). In a future release, the default value for `weights_only` will be flipped to `True`. This limits the functions that could be executed during unpickling. Arbitrary objects will no longer be allowed to be loaded via this mode unless they are explicitly allowlisted by the user via `torch.serialization.add_safe_globals`. We recommend you start setting `weights_only=True` for any use case where you don't have full control of the loaded file. Please open an issue on GitHub for any issues related to this experimental feature.\n",
      "  state_dict = torch.load(per_path, map_location=torch.device(\"cpu\"))[\"state_dict\"]  # nosec B614\n"
     ]
    },
    {
     "data": {
      "application/vnd.jupyter.widget-view+json": {
       "model_id": "93bfe67a6edc402da2c318662d845c00",
       "version_major": 2,
       "version_minor": 0
      },
      "text/plain": [
       "Predicting: |          | 0/? [00:00<?, ?it/s]"
      ]
     },
     "metadata": {},
     "output_type": "display_data"
    },
    {
     "name": "stderr",
     "output_type": "stream",
     "text": [
      "/opt/conda/lib/python3.10/site-packages/autogluon/multimodal/utils/checkpoint.py:45: FutureWarning: You are using `torch.load` with `weights_only=False` (the current default value), which uses the default pickle module implicitly. It is possible to construct malicious pickle data which will execute arbitrary code during unpickling (See https://github.com/pytorch/pytorch/blob/main/SECURITY.md#untrusted-models for more details). In a future release, the default value for `weights_only` will be flipped to `True`. This limits the functions that could be executed during unpickling. Arbitrary objects will no longer be allowed to be loaded via this mode unless they are explicitly allowlisted by the user via `torch.serialization.add_safe_globals`. We recommend you start setting `weights_only=True` for any use case where you don't have full control of the loaded file. Please open an issue on GitHub for any issues related to this experimental feature.\n",
      "  state_dict = torch.load(per_path, map_location=torch.device(\"cpu\"))[\"state_dict\"]  # nosec B614\n",
      "AutoMM has created your model. 🎉🎉🎉\n",
      "\n",
      "To load the model, use the code below:\n",
      "    ```python\n",
      "    from autogluon.multimodal import MultiModalPredictor\n",
      "    predictor = MultiModalPredictor.load(\"/home/sagemaker-user/SENTIMENT ANALYSIS/models/automm_sentiment\")\n",
      "    ```\n",
      "\n",
      "If you are not satisfied with the model, try to increase the training time, \n",
      "adjust the hyperparameters (https://auto.gluon.ai/stable/tutorials/multimodal/advanced_topics/customization.html),\n",
      "or post issues on GitHub (https://github.com/autogluon/autogluon/issues).\n",
      "\n",
      "\n"
     ]
    },
    {
     "data": {
      "text/plain": [
       "<autogluon.multimodal.predictor.MultiModalPredictor at 0x7f92e8ffad70>"
      ]
     },
     "execution_count": 9,
     "metadata": {},
     "output_type": "execute_result"
    }
   ],
   "source": [
    "# Initialize and train the MultiModalPredictor\n",
    "predictor = MultiModalPredictor(label='isPositive', eval_metric='accuracy', path=model_path, presets='best_quality')\n",
    "predictor.fit(train_data)"
   ]
  },
  {
   "cell_type": "code",
   "execution_count": 10,
   "id": "ace5ae63-e43c-414e-b231-9c52f0035422",
   "metadata": {},
   "outputs": [
    {
     "data": {
      "application/vnd.jupyter.widget-view+json": {
       "model_id": "89ddce5cbdce40f2b1c0b882c7a7a37b",
       "version_major": 2,
       "version_minor": 0
      },
      "text/plain": [
       "Predicting: |          | 0/? [00:00<?, ?it/s]"
      ]
     },
     "metadata": {},
     "output_type": "display_data"
    },
    {
     "name": "stdout",
     "output_type": "stream",
     "text": [
      "Test Score: {'accuracy': 0.948}\n"
     ]
    }
   ],
   "source": [
    "# Evaluate on test data\n",
    "test_score = predictor.evaluate(test_data)\n",
    "print(\"Test Score:\", test_score)"
   ]
  },
  {
   "cell_type": "code",
   "execution_count": 11,
   "id": "cf20abc4-3f1a-4a09-bfc9-9a79d4c8da95",
   "metadata": {},
   "outputs": [],
   "source": [
    "# Save the model\n",
    "predictor.save(model_path)"
   ]
  },
  {
   "cell_type": "code",
   "execution_count": 12,
   "id": "a4de1a28-6050-4dbc-b469-d00b80a1c604",
   "metadata": {},
   "outputs": [
    {
     "data": {
      "application/vnd.jupyter.widget-view+json": {
       "model_id": "384853f743914252b92c915fa7774da5",
       "version_major": 2,
       "version_minor": 0
      },
      "text/plain": [
       "Predicting: |          | 0/? [00:00<?, ?it/s]"
      ]
     },
     "metadata": {},
     "output_type": "display_data"
    },
    {
     "name": "stdout",
     "output_type": "stream",
     "text": [
      "34506    0\n",
      "43725    1\n",
      "11615    0\n",
      "56364    1\n",
      "3787     0\n",
      "        ..\n",
      "28374    1\n",
      "34036    0\n",
      "17240    1\n",
      "38007    1\n",
      "11665    1\n",
      "Name: isPositive, Length: 1000, dtype: int64\n"
     ]
    }
   ],
   "source": [
    "# Make predictions\n",
    "predictions = predictor.predict(test_data[['reviewText', 'summary', 'verified', 'log_votes', 'time']])\n",
    "print(predictions)"
   ]
  },
  {
   "cell_type": "code",
   "execution_count": 13,
   "id": "93a24f44-f40c-4461-96e4-1a9e17809b94",
   "metadata": {},
   "outputs": [
    {
     "data": {
      "text/html": [
       "<div>\n",
       "<style scoped>\n",
       "    .dataframe tbody tr th:only-of-type {\n",
       "        vertical-align: middle;\n",
       "    }\n",
       "\n",
       "    .dataframe tbody tr th {\n",
       "        vertical-align: top;\n",
       "    }\n",
       "\n",
       "    .dataframe thead th {\n",
       "        text-align: right;\n",
       "    }\n",
       "</style>\n",
       "<table border=\"1\" class=\"dataframe\">\n",
       "  <thead>\n",
       "    <tr style=\"text-align: right;\">\n",
       "      <th></th>\n",
       "      <th>reviewText</th>\n",
       "      <th>summary</th>\n",
       "      <th>verified</th>\n",
       "      <th>time</th>\n",
       "      <th>log_votes</th>\n",
       "      <th>isPositive</th>\n",
       "      <th>predictions</th>\n",
       "    </tr>\n",
       "  </thead>\n",
       "  <tbody>\n",
       "    <tr>\n",
       "      <th>34506</th>\n",
       "      <td>Do not download if you are purchasing for an i...</td>\n",
       "      <td>I just wasted my money</td>\n",
       "      <td>True</td>\n",
       "      <td>1522540800</td>\n",
       "      <td>0.000000</td>\n",
       "      <td>0</td>\n",
       "      <td>0</td>\n",
       "    </tr>\n",
       "    <tr>\n",
       "      <th>43725</th>\n",
       "      <td>I have tried similar products, but this one ca...</td>\n",
       "      <td>This is great!</td>\n",
       "      <td>False</td>\n",
       "      <td>1057708800</td>\n",
       "      <td>1.098612</td>\n",
       "      <td>1</td>\n",
       "      <td>1</td>\n",
       "    </tr>\n",
       "    <tr>\n",
       "      <th>11615</th>\n",
       "      <td>This product says it is compatible with macs b...</td>\n",
       "      <td>Not compatible with mac osx</td>\n",
       "      <td>False</td>\n",
       "      <td>1295568000</td>\n",
       "      <td>2.484907</td>\n",
       "      <td>0</td>\n",
       "      <td>0</td>\n",
       "    </tr>\n",
       "    <tr>\n",
       "      <th>56364</th>\n",
       "      <td>Easy to use, no issue with downloading, and he...</td>\n",
       "      <td>Taxes, done.</td>\n",
       "      <td>True</td>\n",
       "      <td>1393977600</td>\n",
       "      <td>0.000000</td>\n",
       "      <td>1</td>\n",
       "      <td>1</td>\n",
       "    </tr>\n",
       "    <tr>\n",
       "      <th>3787</th>\n",
       "      <td>This program worked fine for several dozen meg...</td>\n",
       "      <td>Bugs and blind side streets galore...</td>\n",
       "      <td>False</td>\n",
       "      <td>1102118400</td>\n",
       "      <td>2.639057</td>\n",
       "      <td>0</td>\n",
       "      <td>0</td>\n",
       "    </tr>\n",
       "    <tr>\n",
       "      <th>27905</th>\n",
       "      <td>The software would not download onto my PC.</td>\n",
       "      <td>One Star</td>\n",
       "      <td>True</td>\n",
       "      <td>1501372800</td>\n",
       "      <td>0.000000</td>\n",
       "      <td>0</td>\n",
       "      <td>0</td>\n",
       "    </tr>\n",
       "    <tr>\n",
       "      <th>3635</th>\n",
       "      <td>Very annoying</td>\n",
       "      <td>One Star</td>\n",
       "      <td>True</td>\n",
       "      <td>1434240000</td>\n",
       "      <td>0.000000</td>\n",
       "      <td>0</td>\n",
       "      <td>0</td>\n",
       "    </tr>\n",
       "    <tr>\n",
       "      <th>66299</th>\n",
       "      <td>I was so worried to buy this product when I ch...</td>\n",
       "      <td>Works well, not as well as the PC version</td>\n",
       "      <td>True</td>\n",
       "      <td>1346630400</td>\n",
       "      <td>0.000000</td>\n",
       "      <td>0</td>\n",
       "      <td>1</td>\n",
       "    </tr>\n",
       "    <tr>\n",
       "      <th>23191</th>\n",
       "      <td>I don't know if the keys Amazon is getting are...</td>\n",
       "      <td>Good, but constant installation problems.</td>\n",
       "      <td>True</td>\n",
       "      <td>1404172800</td>\n",
       "      <td>0.000000</td>\n",
       "      <td>0</td>\n",
       "      <td>0</td>\n",
       "    </tr>\n",
       "    <tr>\n",
       "      <th>41306</th>\n",
       "      <td>Did not  run properly on my system graffics wa...</td>\n",
       "      <td>Did not like.</td>\n",
       "      <td>True</td>\n",
       "      <td>1376697600</td>\n",
       "      <td>0.000000</td>\n",
       "      <td>0</td>\n",
       "      <td>0</td>\n",
       "    </tr>\n",
       "    <tr>\n",
       "      <th>35121</th>\n",
       "      <td>It could be wonderful,l except there is not an...</td>\n",
       "      <td>NO USERS MANUAL</td>\n",
       "      <td>True</td>\n",
       "      <td>1384905600</td>\n",
       "      <td>0.000000</td>\n",
       "      <td>0</td>\n",
       "      <td>0</td>\n",
       "    </tr>\n",
       "    <tr>\n",
       "      <th>11645</th>\n",
       "      <td>This is not real, full software.  It takes you...</td>\n",
       "      <td>Just doesn't work</td>\n",
       "      <td>True</td>\n",
       "      <td>1391040000</td>\n",
       "      <td>0.000000</td>\n",
       "      <td>0</td>\n",
       "      <td>0</td>\n",
       "    </tr>\n",
       "    <tr>\n",
       "      <th>13039</th>\n",
       "      <td>New complete software with license. A word of ...</td>\n",
       "      <td>great ealy version. use caution</td>\n",
       "      <td>True</td>\n",
       "      <td>1398038400</td>\n",
       "      <td>0.000000</td>\n",
       "      <td>0</td>\n",
       "      <td>1</td>\n",
       "    </tr>\n",
       "    <tr>\n",
       "      <th>58163</th>\n",
       "      <td>Worked fine</td>\n",
       "      <td>Four Stars</td>\n",
       "      <td>True</td>\n",
       "      <td>1475625600</td>\n",
       "      <td>0.000000</td>\n",
       "      <td>1</td>\n",
       "      <td>1</td>\n",
       "    </tr>\n",
       "    <tr>\n",
       "      <th>42315</th>\n",
       "      <td>The following applies to the standard version ...</td>\n",
       "      <td>What a mistake</td>\n",
       "      <td>False</td>\n",
       "      <td>1209168000</td>\n",
       "      <td>1.386294</td>\n",
       "      <td>0</td>\n",
       "      <td>0</td>\n",
       "    </tr>\n",
       "    <tr>\n",
       "      <th>26388</th>\n",
       "      <td>I was trying to consolidate all computing on m...</td>\n",
       "      <td>Practically worthless</td>\n",
       "      <td>False</td>\n",
       "      <td>1278720000</td>\n",
       "      <td>0.000000</td>\n",
       "      <td>0</td>\n",
       "      <td>0</td>\n",
       "    </tr>\n",
       "    <tr>\n",
       "      <th>36761</th>\n",
       "      <td>Have been a paperport user for many years.  Ha...</td>\n",
       "      <td>PaperPort 12 - Highly recommend.</td>\n",
       "      <td>True</td>\n",
       "      <td>1293580800</td>\n",
       "      <td>1.098612</td>\n",
       "      <td>1</td>\n",
       "      <td>1</td>\n",
       "    </tr>\n",
       "    <tr>\n",
       "      <th>56511</th>\n",
       "      <td>Bounceback Professional is the easiest and mos...</td>\n",
       "      <td>Best backup/recovery software ever created.</td>\n",
       "      <td>False</td>\n",
       "      <td>1154304000</td>\n",
       "      <td>2.772589</td>\n",
       "      <td>1</td>\n",
       "      <td>1</td>\n",
       "    </tr>\n",
       "    <tr>\n",
       "      <th>22776</th>\n",
       "      <td>A real bomb this year!</td>\n",
       "      <td>Two Stars</td>\n",
       "      <td>True</td>\n",
       "      <td>1428451200</td>\n",
       "      <td>0.000000</td>\n",
       "      <td>0</td>\n",
       "      <td>1</td>\n",
       "    </tr>\n",
       "    <tr>\n",
       "      <th>28289</th>\n",
       "      <td>It was a good product the Free edition is very...</td>\n",
       "      <td>Free But, limited</td>\n",
       "      <td>True</td>\n",
       "      <td>1440115200</td>\n",
       "      <td>2.079442</td>\n",
       "      <td>1</td>\n",
       "      <td>1</td>\n",
       "    </tr>\n",
       "  </tbody>\n",
       "</table>\n",
       "</div>"
      ],
      "text/plain": [
       "                                              reviewText  \\\n",
       "34506  Do not download if you are purchasing for an i...   \n",
       "43725  I have tried similar products, but this one ca...   \n",
       "11615  This product says it is compatible with macs b...   \n",
       "56364  Easy to use, no issue with downloading, and he...   \n",
       "3787   This program worked fine for several dozen meg...   \n",
       "27905        The software would not download onto my PC.   \n",
       "3635                                       Very annoying   \n",
       "66299  I was so worried to buy this product when I ch...   \n",
       "23191  I don't know if the keys Amazon is getting are...   \n",
       "41306  Did not  run properly on my system graffics wa...   \n",
       "35121  It could be wonderful,l except there is not an...   \n",
       "11645  This is not real, full software.  It takes you...   \n",
       "13039  New complete software with license. A word of ...   \n",
       "58163                                        Worked fine   \n",
       "42315  The following applies to the standard version ...   \n",
       "26388  I was trying to consolidate all computing on m...   \n",
       "36761  Have been a paperport user for many years.  Ha...   \n",
       "56511  Bounceback Professional is the easiest and mos...   \n",
       "22776                             A real bomb this year!   \n",
       "28289  It was a good product the Free edition is very...   \n",
       "\n",
       "                                           summary  verified        time  \\\n",
       "34506                       I just wasted my money      True  1522540800   \n",
       "43725                               This is great!     False  1057708800   \n",
       "11615                  Not compatible with mac osx     False  1295568000   \n",
       "56364                                 Taxes, done.      True  1393977600   \n",
       "3787         Bugs and blind side streets galore...     False  1102118400   \n",
       "27905                                     One Star      True  1501372800   \n",
       "3635                                      One Star      True  1434240000   \n",
       "66299    Works well, not as well as the PC version      True  1346630400   \n",
       "23191    Good, but constant installation problems.      True  1404172800   \n",
       "41306                                Did not like.      True  1376697600   \n",
       "35121                              NO USERS MANUAL      True  1384905600   \n",
       "11645                            Just doesn't work      True  1391040000   \n",
       "13039              great ealy version. use caution      True  1398038400   \n",
       "58163                                   Four Stars      True  1475625600   \n",
       "42315                               What a mistake     False  1209168000   \n",
       "26388                        Practically worthless     False  1278720000   \n",
       "36761             PaperPort 12 - Highly recommend.      True  1293580800   \n",
       "56511  Best backup/recovery software ever created.     False  1154304000   \n",
       "22776                                    Two Stars      True  1428451200   \n",
       "28289                            Free But, limited      True  1440115200   \n",
       "\n",
       "       log_votes  isPositive  predictions  \n",
       "34506   0.000000           0            0  \n",
       "43725   1.098612           1            1  \n",
       "11615   2.484907           0            0  \n",
       "56364   0.000000           1            1  \n",
       "3787    2.639057           0            0  \n",
       "27905   0.000000           0            0  \n",
       "3635    0.000000           0            0  \n",
       "66299   0.000000           0            1  \n",
       "23191   0.000000           0            0  \n",
       "41306   0.000000           0            0  \n",
       "35121   0.000000           0            0  \n",
       "11645   0.000000           0            0  \n",
       "13039   0.000000           0            1  \n",
       "58163   0.000000           1            1  \n",
       "42315   1.386294           0            0  \n",
       "26388   0.000000           0            0  \n",
       "36761   1.098612           1            1  \n",
       "56511   2.772589           1            1  \n",
       "22776   0.000000           0            1  \n",
       "28289   2.079442           1            1  "
      ]
     },
     "execution_count": 13,
     "metadata": {},
     "output_type": "execute_result"
    }
   ],
   "source": [
    "test_data['predictions'] = predictions\n",
    "test_data.head(20)"
   ]
  },
  {
   "cell_type": "code",
   "execution_count": 14,
   "id": "1dba63ee-ab83-4f68-bf3d-54b567257394",
   "metadata": {},
   "outputs": [
    {
     "data": {
      "image/png": "[encoded data removed]",
      "text/plain": [
       "<Figure size 640x480 with 2 Axes>"
      ]
     },
     "metadata": {},
     "output_type": "display_data"
    }
   ],
   "source": [
    "from sklearn.metrics import confusion_matrix, ConfusionMatrixDisplay\n",
    "import matplotlib.pyplot as plt\n",
    "\n",
    "# Compute the confusion matrix\n",
    "cm = confusion_matrix(test_data['isPositive'], test_data['predictions'])\n",
    "\n",
    "# Display the confusion matrix\n",
    "disp = ConfusionMatrixDisplay(confusion_matrix=cm, display_labels=[0, 1])\n",
    "disp.plot(cmap=plt.cm.Blues)\n",
    "plt.title(\"Confusion Matrix\")\n",
    "plt.show()"
   ]
  },
  {
   "cell_type": "code",
   "execution_count": 15,
   "id": "1725fdf5-b350-4b2c-b866-7706da28b9cb",
   "metadata": {},
   "outputs": [
    {
     "name": "stdout",
     "output_type": "stream",
     "text": [
      "Classification Report:\n",
      "              precision    recall  f1-score   support\n",
      "\n",
      "    Negative       0.95      0.91      0.93       372\n",
      "    Positive       0.95      0.97      0.96       628\n",
      "\n",
      "    accuracy                           0.95      1000\n",
      "   macro avg       0.95      0.94      0.94      1000\n",
      "weighted avg       0.95      0.95      0.95      1000\n",
      "\n"
     ]
    }
   ],
   "source": [
    "from sklearn.metrics import classification_report\n",
    "\n",
    "# Generate the classification report\n",
    "report = classification_report(test_data['isPositive'], test_data['predictions'], target_names=['Negative', 'Positive'])\n",
    "print(\"Classification Report:\")\n",
    "print(report)\n"
   ]
  },
  {
   "cell_type": "code",
   "execution_count": 16,
   "id": "49852142-dfef-4c59-a076-ad15d3715051",
   "metadata": {},
   "outputs": [],
   "source": [
    "# Save the table to a CSV file if needed\n",
    "test_data.to_csv(\"val_predictions_table_autogluon.csv\", index=False)"
   ]
  },
  {
   "cell_type": "code",
   "execution_count": null,
   "id": "a42944ce-8d7f-46f2-8d70-9b7e2941d1bc",
   "metadata": {},
   "outputs": [],
   "source": []
  }
 ],
 "metadata": {
  "kernelspec": {
   "display_name": "Python 3 (ipykernel)",
   "language": "python",
   "name": "python3"
  },
  "language_info": {
   "codemirror_mode": {
    "name": "ipython",
    "version": 3
   },
   "file_extension": ".py",
   "mimetype": "text/x-python",
   "name": "python",
   "nbconvert_exporter": "python",
   "pygments_lexer": "ipython3",
   "version": "3.10.14"
  }
 },
 "nbformat": 4,
 "nbformat_minor": 5
}
